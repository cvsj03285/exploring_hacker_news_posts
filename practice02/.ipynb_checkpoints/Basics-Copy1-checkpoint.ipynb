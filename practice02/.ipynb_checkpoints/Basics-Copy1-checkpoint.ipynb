{
 "cells": [
  {
   "cell_type": "markdown",
   "metadata": {
    "collapsed": true
   },
   "source": [
    "# Exploring Hacker News Posts\n",
    "### introduction"
   ]
  },
  {
   "cell_type": "markdown",
   "metadata": {},
   "source": [
    "read the ``` hacker_news.csv ``` file in as a list of lists"
   ]
  },
  {
   "cell_type": "code",
   "execution_count": 1,
   "metadata": {
    "collapsed": true
   },
   "outputs": [],
   "source": [
    "from csv import reader\n",
    "opened_file = open(\"hacker_news.csv\")\n",
    "read_file = reader(opened_file)\n",
    "hn_original = list(read_file)"
   ]
  },
  {
   "cell_type": "markdown",
   "metadata": {},
   "source": [
    "display the first 5 rows"
   ]
  },
  {
   "cell_type": "code",
   "execution_count": 2,
   "metadata": {
    "collapsed": false
   },
   "outputs": [
    {
     "name": "stdout",
     "output_type": "stream",
     "text": [
      "[['id', 'title', 'url', 'num_points', 'num_comments', 'author', 'created_at'], ['12224879', 'Interactive Dynamic Video', 'http://www.interactivedynamicvideo.com/', '386', '52', 'ne0phyte', '8/4/2016 11:52'], ['10975351', 'How to Use Open Source and Shut the Fuck Up at the Same Time', 'http://hueniverse.com/2016/01/26/how-to-use-open-source-and-shut-the-fuck-up-at-the-same-time/', '39', '10', 'josep2', '1/26/2016 19:30'], ['11964716', \"Florida DJs May Face Felony for April Fools' Water Joke\", 'http://www.thewire.com/entertainment/2013/04/florida-djs-april-fools-water-joke/63798/', '2', '1', 'vezycash', '6/23/2016 22:20'], ['11919867', 'Technology ventures: From Idea to Enterprise', 'https://www.amazon.com/Technology-Ventures-Enterprise-Thomas-Byers/dp/0073523429', '3', '1', 'hswarna', '6/17/2016 0:01']]\n"
     ]
    }
   ],
   "source": [
    "print(hn_original[:5])"
   ]
  },
  {
   "cell_type": "markdown",
   "metadata": {},
   "source": [
    "In order to analyze our data, we need to remove column header below."
   ]
  },
  {
   "cell_type": "code",
   "execution_count": 3,
   "metadata": {
    "collapsed": false
   },
   "outputs": [
    {
     "name": "stdout",
     "output_type": "stream",
     "text": [
      "['id', 'title', 'url', 'num_points', 'num_comments', 'author', 'created_at']\n",
      "\n",
      "[['12224879', 'Interactive Dynamic Video', 'http://www.interactivedynamicvideo.com/', '386', '52', 'ne0phyte', '8/4/2016 11:52'], ['10975351', 'How to Use Open Source and Shut the Fuck Up at the Same Time', 'http://hueniverse.com/2016/01/26/how-to-use-open-source-and-shut-the-fuck-up-at-the-same-time/', '39', '10', 'josep2', '1/26/2016 19:30'], ['11964716', \"Florida DJs May Face Felony for April Fools' Water Joke\", 'http://www.thewire.com/entertainment/2013/04/florida-djs-april-fools-water-joke/63798/', '2', '1', 'vezycash', '6/23/2016 22:20'], ['11919867', 'Technology ventures: From Idea to Enterprise', 'https://www.amazon.com/Technology-Ventures-Enterprise-Thomas-Byers/dp/0073523429', '3', '1', 'hswarna', '6/17/2016 0:01'], ['10301696', 'Note by Note: The Making of Steinway L1037 (2007)', 'http://www.nytimes.com/2007/11/07/movies/07stein.html?_r=0', '8', '2', 'walterbell', '9/30/2015 4:12']]\n"
     ]
    }
   ],
   "source": [
    "headers = hn_original[0]\n",
    "print(headers)\n",
    "\n",
    "hn = hn_original[1:]\n",
    "\n",
    "print('')\n",
    "print(hn[:5])"
   ]
  },
  {
   "cell_type": "code",
   "execution_count": 4,
   "metadata": {
    "collapsed": false
   },
   "outputs": [],
   "source": [
    "# print('I love Fay'.startswith('I love'))\n",
    "# True\n"
   ]
  },
  {
   "cell_type": "markdown",
   "metadata": {},
   "source": [
    "use 'startswith' method to separate posts beginning with '''Ask HN''' and '''Show HN'''\n",
    "\n",
    "create 3 empty lists below"
   ]
  },
  {
   "cell_type": "code",
   "execution_count": 5,
   "metadata": {
    "collapsed": true
   },
   "outputs": [],
   "source": [
    "ask_posts = []\n",
    "show_posts = []\n",
    "other_posts = []"
   ]
  },
  {
   "cell_type": "code",
   "execution_count": 6,
   "metadata": {
    "collapsed": false
   },
   "outputs": [
    {
     "name": "stdout",
     "output_type": "stream",
     "text": [
      "Number of posts starts with ask hn:  1744\n",
      "Number of posts starts with show hn:  1162\n",
      "Number of other posts:  17194\n"
     ]
    }
   ],
   "source": [
    "for row in hn:\n",
    "    title = row[1]\n",
    "    # if lowercase of title starts with \"ask hn\", append to ask_posts\n",
    "    if title.lower().startswith('ask hn'):\n",
    "        ask_posts.append(row)\n",
    "    # if lowercase of title starts with \"show hn\", append to show_posts\n",
    "    elif title.lower().startswith('show hn'):\n",
    "        show_posts.append(row)\n",
    "    # else situations, append to other_posts\n",
    "    else:\n",
    "        other_posts.append(row)\n",
    "\n",
    "#to check number of posts\n",
    "print('Number of posts starts with ask hn: ', len(ask_posts))\n",
    "print('Number of posts starts with show hn: ', len(show_posts))\n",
    "print('Number of other posts: ', len(other_posts))"
   ]
  },
  {
   "cell_type": "markdown",
   "metadata": {},
   "source": [
    "to see the first 5 rows in the list of lists"
   ]
  },
  {
   "cell_type": "code",
   "execution_count": 7,
   "metadata": {
    "collapsed": false,
    "scrolled": true
   },
   "outputs": [
    {
     "name": "stdout",
     "output_type": "stream",
     "text": [
      "[['12296411', 'Ask HN: How to improve my personal website?', '', '2', '6', 'ahmedbaracat', '8/16/2016 9:55'], ['10610020', 'Ask HN: Am I the only one outraged by Twitter shutting down share counts?', '', '28', '29', 'tkfx', '11/22/2015 13:43'], ['11610310', 'Ask HN: Aby recent changes to CSS that broke mobile?', '', '1', '1', 'polskibus', '5/2/2016 10:14'], ['12210105', 'Ask HN: Looking for Employee #3 How do I do it?', '', '1', '3', 'sph130', '8/2/2016 14:20'], ['10394168', 'Ask HN: Someone offered to buy my browser extension from me. What now?', '', '28', '17', 'roykolak', '10/15/2015 16:38']]\n",
      "\n",
      "[['10627194', 'Show HN: Wio Link  ESP8266 Based Web of Things Hardware Development Platform', 'https://iot.seeed.cc', '26', '22', 'kfihihc', '11/25/2015 14:03'], ['10646440', 'Show HN: Something pointless I made', 'http://dn.ht/picklecat/', '747', '102', 'dhotson', '11/29/2015 22:46'], ['11590768', 'Show HN: Shanhu.io, a programming playground powered by e8vm', 'https://shanhu.io', '1', '1', 'h8liu', '4/28/2016 18:05'], ['12178806', 'Show HN: Webscope  Easy way for web developers to communicate with Clients', 'http://webscopeapp.com', '3', '3', 'fastbrick', '7/28/2016 7:11'], ['10872799', 'Show HN: GeoScreenshot  Easily test Geo-IP based web pages', 'https://www.geoscreenshot.com/', '1', '9', 'kpsychwave', '1/9/2016 20:45']]\n"
     ]
    }
   ],
   "source": [
    "print(ask_posts[:5])\n",
    "print()\n",
    "print(show_posts[:5])"
   ]
  },
  {
   "cell_type": "code",
   "execution_count": 8,
   "metadata": {
    "collapsed": false
   },
   "outputs": [
    {
     "name": "stdout",
     "output_type": "stream",
     "text": [
      "total ask comments: 24483\n",
      "average ask comments: 14.038417431192661\n"
     ]
    }
   ],
   "source": [
    "# find total number of comments in ask_posts\n",
    "total_ask_comments = 0\n",
    "\n",
    "#iterate over the ask_posts to calculate total amounts\n",
    "for row in ask_posts:\n",
    "    #num_comments is the fifth column in ask_posts\n",
    "    num_comments = int(row[4])\n",
    "    total_ask_comments += num_comments\n",
    "\n",
    "print('total ask comments:', total_ask_comments)\n",
    "    \n",
    "#compute the average number of comments\n",
    "avg_ask_comments = total_ask_comments / len(ask_posts)\n",
    "print('average ask comments:', avg_ask_comments)"
   ]
  },
  {
   "cell_type": "code",
   "execution_count": 9,
   "metadata": {
    "collapsed": false
   },
   "outputs": [
    {
     "name": "stdout",
     "output_type": "stream",
     "text": [
      "total show comments: 11988\n",
      "average show comments: 10.31669535283993\n"
     ]
    }
   ],
   "source": [
    "#find total number of comments in show_posts\n",
    "total_show_comments = 0\n",
    "\n",
    "#iterate over the show posts to calculate total amounts\n",
    "for row in show_posts:\n",
    "    num_comments = int(row[4])\n",
    "    total_show_comments += num_comments\n",
    "    \n",
    "print('total show comments:', total_show_comments)\n",
    "\n",
    "#compute the average number of comments \n",
    "avg_show_comments = total_show_comments / len(show_posts)\n",
    "print('average show comments:', avg_show_comments)"
   ]
  },
  {
   "cell_type": "markdown",
   "metadata": {},
   "source": [
    "|Total ask posts|Total show posts|avg. ask comments|avg. show comments|\n",
    "|------|------|------|------|\n",
    "|24483|11988|14.03|10.31|\n"
   ]
  },
  {
   "cell_type": "markdown",
   "metadata": {},
   "source": [
    "Total ask posts are 13000 more than total show posts. Besides, since ask posts receives more comments than show posts, we'll focus our remaining analysis on these posts."
   ]
  },
  {
   "cell_type": "markdown",
   "metadata": {},
   "source": [
    "Next, we'll analyze if \"creating ask posts at certain time are more likely to attract more comments\" "
   ]
  },
  {
   "cell_type": "code",
   "execution_count": 10,
   "metadata": {
    "collapsed": true
   },
   "outputs": [],
   "source": [
    "import datetime as dt"
   ]
  },
  {
   "cell_type": "code",
   "execution_count": 11,
   "metadata": {
    "collapsed": false,
    "scrolled": true
   },
   "outputs": [
    {
     "name": "stdout",
     "output_type": "stream",
     "text": [
      "{'00': 55, '05': 46, '03': 54, '12': 73, '20': 80, '08': 48, '07': 34, '14': 107, '11': 58, '04': 47, '01': 60, '16': 108, '02': 58, '06': 44, '10': 59, '17': 100, '13': 85, '22': 71, '21': 109, '15': 116, '19': 110, '18': 109, '23': 68, '09': 45}\n",
      "{'00': 447, '05': 464, '03': 421, '12': 687, '20': 1722, '08': 492, '07': 267, '14': 1416, '11': 641, '04': 337, '01': 683, '16': 1814, '02': 1381, '06': 397, '10': 793, '17': 1146, '13': 1253, '22': 479, '21': 1745, '15': 4477, '19': 1188, '18': 1439, '23': 543, '09': 251}\n"
     ]
    }
   ],
   "source": [
    "result_list = []\n",
    "\n",
    "for row in ask_posts:\n",
    "    time = row[6]\n",
    "    comment = int(row[4])\n",
    "    #use \"list.append([column1, column2])\" to append two columns\n",
    "    result_list.append([time, comment])\n",
    "\n",
    "\n",
    "counts_by_hour = {}\n",
    "comments_by_hour = {}\n",
    "date_format = \"%m/%d/%Y %H:%M\"\n",
    "\n",
    "for row in result_list:\n",
    "    hour = row[0]\n",
    "    comment = row[1]\n",
    "    hr = dt.datetime.strptime(hour, date_format).strftime(\"%H\")\n",
    "    if hr not in counts_by_hour:\n",
    "        counts_by_hour[hr] = 1\n",
    "        comments_by_hour[hr] = comment\n",
    "    else:\n",
    "        counts_by_hour[hr] += 1\n",
    "        comments_by_hour[hr] += comment\n",
    "\n",
    "print(counts_by_hour)\n",
    "print(comments_by_hour)"
   ]
  },
  {
   "cell_type": "markdown",
   "metadata": {},
   "source": [
    "Next, we'll use two dictionaries to calculate the average number of comments for posts created during each hour of the day."
   ]
  },
  {
   "cell_type": "code",
   "execution_count": 12,
   "metadata": {
    "collapsed": false,
    "scrolled": true
   },
   "outputs": [
    {
     "name": "stdout",
     "output_type": "stream",
     "text": [
      "Counts by hour {'00': 55, '05': 46, '03': 54, '12': 73, '20': 80, '08': 48, '07': 34, '14': 107, '11': 58, '04': 47, '01': 60, '16': 108, '02': 58, '06': 44, '10': 59, '17': 100, '13': 85, '22': 71, '21': 109, '15': 116, '19': 110, '18': 109, '23': 68, '09': 45}\n",
      "\n",
      "Comments by hour {'00': 447, '05': 464, '03': 421, '12': 687, '20': 1722, '08': 492, '07': 267, '14': 1416, '11': 641, '04': 337, '01': 683, '16': 1814, '02': 1381, '06': 397, '10': 793, '17': 1146, '13': 1253, '22': 479, '21': 1745, '15': 4477, '19': 1188, '18': 1439, '23': 543, '09': 251}\n"
     ]
    }
   ],
   "source": [
    "### to calculate average comments per post during each hour\n",
    "### 要統計每小時的貼文平均回覆數 ex: 早上10點 793則回覆/59篇貼文=13.44\n",
    "\n",
    "result_list = []\n",
    "\n",
    "#append the data you need: hour, number of comments, posts number\n",
    "for row in ask_posts:\n",
    "    comment_num = int(row[4])\n",
    "    create_time = row[6]\n",
    "    result_list.append([comment_num, create_time])\n",
    "    \n",
    "#number of posts per hour\n",
    "counts_by_hour = {} \n",
    "#number of comment per hour\n",
    "posts_by_hour = {}\n",
    "\n",
    "for row in result_list:\n",
    "    comment = row[0] # already in int() type at previous step\n",
    "    hour = row[1]\n",
    "    hour = dt.datetime.strptime(hour,\"%m/%d/%Y %H:%M\")\n",
    "    hour = hour.strftime(\"%H\")\n",
    "    \n",
    "    if hour not in counts_by_hour:\n",
    "        counts_by_hour[hour] = 1\n",
    "        comments_by_hour[hour] = comment\n",
    "    else:\n",
    "        counts_by_hour[hour] += 1\n",
    "        comments_by_hour[hour] += comment\n",
    "        \n",
    "print('Counts by hour',counts_by_hour)\n",
    "print()\n",
    "print('Comments by hour', comments_by_hour)"
   ]
  },
  {
   "cell_type": "code",
   "execution_count": 13,
   "metadata": {
    "collapsed": false,
    "scrolled": true
   },
   "outputs": [
    {
     "name": "stdout",
     "output_type": "stream",
     "text": [
      "[['00', 8.127272727272727], ['05', 10.08695652173913], ['03', 7.796296296296297], ['12', 9.41095890410959], ['20', 21.525], ['08', 10.25], ['07', 7.852941176470588], ['14', 13.233644859813085], ['11', 11.051724137931034], ['04', 7.170212765957447], ['01', 11.383333333333333], ['16', 16.796296296296298], ['02', 23.810344827586206], ['06', 9.022727272727273], ['10', 13.440677966101696], ['17', 11.46], ['13', 14.741176470588234], ['22', 6.746478873239437], ['21', 16.009174311926607], ['15', 38.5948275862069], ['19', 10.8], ['18', 13.20183486238532], ['23', 7.985294117647059], ['09', 5.5777777777777775]]\n"
     ]
    }
   ],
   "source": [
    "avg_by_hour = []\n",
    "\n",
    "for comment in comments_by_hour:\n",
    "    for count in counts_by_hour:\n",
    "        if comment == count:\n",
    "            avg_by_hour.append([comment, (comments_by_hour[comment])/(counts_by_hour[count])])\n",
    "\n",
    "print(avg_by_hour)"
   ]
  },
  {
   "cell_type": "markdown",
   "metadata": {},
   "source": [
    "The result is kind of hard to identify the hours with the highest values."
   ]
  },
  {
   "cell_type": "code",
   "execution_count": 14,
   "metadata": {
    "collapsed": false
   },
   "outputs": [
    {
     "name": "stdout",
     "output_type": "stream",
     "text": [
      "[[38.5948275862069, '15'], [23.810344827586206, '02'], [21.525, '20'], [16.796296296296298, '16'], [16.009174311926607, '21'], [14.741176470588234, '13'], [13.440677966101696, '10'], [13.233644859813085, '14'], [13.20183486238532, '18'], [11.46, '17'], [11.383333333333333, '01'], [11.051724137931034, '11'], [10.8, '19'], [10.25, '08'], [10.08695652173913, '05'], [9.41095890410959, '12'], [9.022727272727273, '06'], [8.127272727272727, '00'], [7.985294117647059, '23'], [7.852941176470588, '07'], [7.796296296296297, '03'], [7.170212765957447, '04'], [6.746478873239437, '22'], [5.5777777777777775, '09']]\n"
     ]
    }
   ],
   "source": [
    "swap_avg_by_hour = []\n",
    "\n",
    "for swap in avg_by_hour:\n",
    "    swap_avg_by_hour.append([swap[1], swap[0]])\n",
    "# print(swap_avg_by_hour)\n",
    "\n",
    "# use sorted() function to sort\n",
    "from operator import itemgetter\n",
    "sorted_swap = sorted(swap_avg_by_hour, key = itemgetter(0), reverse = True)\n",
    "\n",
    "print(sorted_swap)"
   ]
  },
  {
   "cell_type": "code",
   "execution_count": 15,
   "metadata": {
    "collapsed": false
   },
   "outputs": [
    {
     "name": "stdout",
     "output_type": "stream",
     "text": [
      "Top 5 Hours for Ask Posts Comments\n"
     ]
    }
   ],
   "source": [
    "print(\"Top 5 Hours for Ask Posts Comments\")"
   ]
  },
  {
   "cell_type": "code",
   "execution_count": 16,
   "metadata": {
    "collapsed": false,
    "scrolled": true
   },
   "outputs": [
    {
     "name": "stdout",
     "output_type": "stream",
     "text": [
      "15:00 38.59 average comments per post\n",
      "02:00 23.81 average comments per post\n",
      "20:00 21.52 average comments per post\n",
      "16:00 16.80 average comments per post\n",
      "21:00 16.01 average comments per post\n"
     ]
    }
   ],
   "source": [
    "for avg, hr in sorted_swap[:5]:\n",
    "    print(\n",
    "        \"{}:00 {:.2f} average comments per post\".format(hr, avg)\n",
    "        )"
   ]
  },
  {
   "cell_type": "code",
   "execution_count": 17,
   "metadata": {
    "collapsed": true
   },
   "outputs": [],
   "source": [
    "# Conclusion\n",
    "### 15:00, 2:00, 20:00, 16:00 and 21:00 had the highest comments of posts"
   ]
  }
 ],
 "metadata": {
  "kernelspec": {
   "display_name": "Python 3",
   "language": "python",
   "name": "python3"
  },
  "language_info": {
   "codemirror_mode": {
    "name": "ipython",
    "version": 3
   },
   "file_extension": ".py",
   "mimetype": "text/x-python",
   "name": "python",
   "nbconvert_exporter": "python",
   "pygments_lexer": "ipython3",
   "version": "3.4.3"
  }
 },
 "nbformat": 4,
 "nbformat_minor": 2
}
